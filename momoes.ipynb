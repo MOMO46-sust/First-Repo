{
  "nbformat": 4,
  "nbformat_minor": 0,
  "metadata": {
    "colab": {
      "provenance": [],
      "authorship_tag": "ABX9TyP1Jkmr319PQOGZwnpxs6RR",
      "include_colab_link": true
    },
    "kernelspec": {
      "name": "python3",
      "display_name": "Python 3"
    },
    "language_info": {
      "name": "python"
    }
  },
  "cells": [
    {
      "cell_type": "markdown",
      "metadata": {
        "id": "view-in-github",
        "colab_type": "text"
      },
      "source": [
        "<a href=\"https://colab.research.google.com/github/MOMO46-sust/First-Repo/blob/main/momoes.ipynb\" target=\"_parent\"><img src=\"https://colab.research.google.com/assets/colab-badge.svg\" alt=\"Open In Colab\"/></a>"
      ]
    },
    {
      "cell_type": "code",
      "execution_count": 3,
      "metadata": {
        "colab": {
          "base_uri": "https://localhost:8080/"
        },
        "id": "C5JEbcqnILKU",
        "outputId": "3e489acd-8f46-48e0-ac34-de278552a453"
      },
      "outputs": [
        {
          "output_type": "stream",
          "name": "stdout",
          "text": [
            "2d array:\n",
            " [[ 6  7 14 14]\n",
            " [12  7 13  7]]\n"
          ]
        }
      ],
      "source": [
        "import numpy as np\n",
        "array= np.random.randint(5,16,size=(2,4))\n",
        "print('2d array:\\n',array)"
      ]
    },
    {
      "cell_type": "code",
      "source": [
        "transpose=array.T\n",
        "print('transpose of the array;\\n',transpose)"
      ],
      "metadata": {
        "colab": {
          "base_uri": "https://localhost:8080/"
        },
        "id": "p9Q74WGmJIkm",
        "outputId": "610767e9-eb14-4c22-dcd1-789f608c50cd"
      },
      "execution_count": 4,
      "outputs": [
        {
          "output_type": "stream",
          "name": "stdout",
          "text": [
            "transpose of the array;\n",
            " [[ 6 12]\n",
            " [ 7  7]\n",
            " [14 13]\n",
            " [14  7]]\n"
          ]
        }
      ]
    },
    {
      "cell_type": "code",
      "source": [
        "sum_elements=np.sum(array)\n",
        "print('sum of all elements:',sum_elements)"
      ],
      "metadata": {
        "colab": {
          "base_uri": "https://localhost:8080/"
        },
        "id": "uqrf6QQ6JapR",
        "outputId": "671d8776-817f-4568-9296-2d26aa725c3f"
      },
      "execution_count": 5,
      "outputs": [
        {
          "output_type": "stream",
          "name": "stdout",
          "text": [
            "sum of all elements: 80\n"
          ]
        }
      ]
    },
    {
      "cell_type": "code",
      "source": [
        "indices=np.argwhere(array > 10)\n",
        "print(indices)"
      ],
      "metadata": {
        "colab": {
          "base_uri": "https://localhost:8080/"
        },
        "id": "YK5358-LJ52t",
        "outputId": "06ff4d73-ecdc-4d4e-95fb-b3ff92fa4f73"
      },
      "execution_count": 7,
      "outputs": [
        {
          "output_type": "stream",
          "name": "stdout",
          "text": [
            "[[0 2]\n",
            " [0 3]\n",
            " [1 0]\n",
            " [1 2]]\n"
          ]
        }
      ]
    },
    {
      "cell_type": "code",
      "source": [
        "#create a text file name 'notes.txt'\n",
        "import os\n",
        "with open (\"notes.txt\",\"w\") as file:\n",
        "  file.write('')\n",
        "#append text ,read and print the content\n",
        "with open(\"notes.txt\",\"a\") as file:\n",
        "  file.write('programmimg is an essential skill in todays world.')\n",
        "with open('notes.txt','r') as file:\n",
        "  content=file.read()\n",
        "print('file contents:',content)\n",
        "#delete a file if it exists\n",
        "if os.path.exists('notes.txt'):\n",
        "  os.remove('notes.txt')\n",
        "  print('file deleted')\n",
        "else:\n",
        "  print('File does not exists')\n",
        "\n"
      ],
      "metadata": {
        "colab": {
          "base_uri": "https://localhost:8080/"
        },
        "id": "LvCPNy4xU0fb",
        "outputId": "25e18b2a-1b60-4104-8eed-463787393f2d"
      },
      "execution_count": 13,
      "outputs": [
        {
          "output_type": "stream",
          "name": "stdout",
          "text": [
            "file contents: programmimg is an essential skill in todays world.\n",
            "file deleted\n"
          ]
        }
      ]
    }
  ]
}