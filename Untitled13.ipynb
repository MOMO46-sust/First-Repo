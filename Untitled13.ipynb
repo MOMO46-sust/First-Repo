{
  "nbformat": 4,
  "nbformat_minor": 0,
  "metadata": {
    "colab": {
      "provenance": [],
      "authorship_tag": "ABX9TyMCIfSYx/P9slqAKYx0bLl+",
      "include_colab_link": true
    },
    "kernelspec": {
      "name": "python3",
      "display_name": "Python 3"
    },
    "language_info": {
      "name": "python"
    }
  },
  "cells": [
    {
      "cell_type": "markdown",
      "metadata": {
        "id": "view-in-github",
        "colab_type": "text"
      },
      "source": [
        "<a href=\"https://colab.research.google.com/github/MOMO46-sust/First-Repo/blob/main/Untitled13.ipynb\" target=\"_parent\"><img src=\"https://colab.research.google.com/assets/colab-badge.svg\" alt=\"Open In Colab\"/></a>"
      ]
    },
    {
      "cell_type": "code",
      "execution_count": null,
      "metadata": {
        "colab": {
          "base_uri": "https://localhost:8080/"
        },
        "id": "CXp-XMvHOYzn",
        "outputId": "143911aa-dc52-40bd-e4fd-9909f755e909"
      },
      "outputs": [
        {
          "output_type": "stream",
          "name": "stdout",
          "text": [
            "hello world\n"
          ]
        }
      ],
      "source": [
        "print('hello world')"
      ]
    },
    {
      "cell_type": "code",
      "source": [
        "# prompt: create a csv file with column name with student name ,student id ,subject,score,assignment percentage,assignment completion(yes/no)\n",
        "\n",
        "import csv\n",
        "\n",
        "data = [\n",
        "    ['Student Name', 'Student ID', 'Subject', 'Score', 'Assignment Percentage', 'Assignment Completion (Yes/No)'],\n",
        "\n",
        "]\n",
        "\n",
        "with open('student_data.csv', 'w', newline='') as csvfile:\n",
        "    writer = csv.writer(csvfile)\n",
        "    writer.writerows(data)\n",
        "\n",
        "\n",
        "!cat student_data.csv\n",
        "\n"
      ],
      "metadata": {
        "id": "JBd1UjFbUNDk",
        "outputId": "0deb50ed-748d-458d-bae4-bc6e79d5d284",
        "colab": {
          "base_uri": "https://localhost:8080/"
        }
      },
      "execution_count": 1,
      "outputs": [
        {
          "output_type": "stream",
          "name": "stdout",
          "text": [
            "Student Name,Student ID,Subject,Score,Assignment Percentage,Assignment Completion (Yes/No)\r\n"
          ]
        }
      ]
    },
    {
      "cell_type": "code",
      "source": [
        "student1=input('enter student name')\n",
        "student1=input('enter student id')\n",
        "student1=input('enter subject')\n",
        "student1=input('enter score')\n",
        "student1=input('enter attendance percentage')\n",
        "student1=input('enter assignment completion')\n"
      ],
      "metadata": {
        "id": "unkzifyaV-jr",
        "outputId": "735c3b91-93a7-4a2b-d970-ea87f00bb887",
        "colab": {
          "base_uri": "https://localhost:8080/"
        }
      },
      "execution_count": 3,
      "outputs": [
        {
          "name": "stdout",
          "output_type": "stream",
          "text": [
            "enter student namemomo\n",
            "enter student id001\n",
            "enter subjectmath\n",
            "enter score87\n",
            "enter attendance percentage90\n",
            "enter assignment completionyes\n"
          ]
        }
      ]
    }
  ]
}